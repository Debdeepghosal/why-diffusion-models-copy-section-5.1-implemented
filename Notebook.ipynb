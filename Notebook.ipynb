{
  "nbformat": 4,
  "nbformat_minor": 0,
  "metadata": {
    "colab": {
      "provenance": []
    },
    "kernelspec": {
      "name": "python3",
      "display_name": "Python 3"
    },
    "language_info": {
      "name": "python"
    }
  },
  "cells": [
    {
      "cell_type": "code",
      "execution_count": null,
      "metadata": {
        "id": "098hy78nqE-2"
      },
      "outputs": [],
      "source": [
        "from google.colab import drive\n",
        "drive.mount('/content/drive/')"
      ]
    },
    {
      "cell_type": "code",
      "source": [
        "import pandas as pd"
      ],
      "metadata": {
        "id": "F7s1m0b3qHm1"
      },
      "execution_count": null,
      "outputs": []
    },
    {
      "cell_type": "code",
      "source": [
        "df=pd.read_csv(\"/content/drive/MyDrive/laion_final.csv\")"
      ],
      "metadata": {
        "id": "N-PNhFBBqJsm"
      },
      "execution_count": null,
      "outputs": []
    },
    {
      "cell_type": "code",
      "source": [
        "#Using First 100k rows\n",
        "df=df.head(100000)"
      ],
      "metadata": {
        "id": "eTs8qpoTqK2W"
      },
      "execution_count": null,
      "outputs": []
    },
    {
      "cell_type": "code",
      "source": [
        "url_list=df['url'].tolist()\n",
        "index_list=df.index.tolist()"
      ],
      "metadata": {
        "id": "pU1WYz9GqMT-"
      },
      "execution_count": null,
      "outputs": []
    },
    {
      "cell_type": "code",
      "source": [
        "import time\n",
        "import requests\n",
        "from multiprocessing import cpu_count\n",
        "from multiprocessing.pool import ThreadPool"
      ],
      "metadata": {
        "id": "cSelb6DAqYsn"
      },
      "execution_count": null,
      "outputs": []
    },
    {
      "cell_type": "code",
      "source": [
        "import os\n",
        "import requests\n",
        "from io import BytesIO\n",
        "from PIL import Image\n",
        "\n",
        "save_directory = '/content/downloaded_images/'\n",
        "os.makedirs('/content/downloaded_images/', exist_ok=True)\n",
        "\n",
        "\n",
        "def download_image(args):\n",
        "    url,index=args[0],args[1]\n",
        "    save_path=os.path.join(save_directory, f\"image_{index}.jpg\")\n",
        "    try:\n",
        "        response = requests.get(url,timeout=10)\n",
        "        response.raise_for_status()\n",
        "        image = Image.open(BytesIO(response.content))\n",
        "        image.save(save_path)\n",
        "#         print(f\"Image downloaded from {url} and saved to {save_path}\")\n",
        "    except Exception as e:\n",
        "        print(f\"Error downloading image from {url}: {e}\")\n",
        "\n"
      ],
      "metadata": {
        "id": "WLidXK8-qZPB"
      },
      "execution_count": null,
      "outputs": []
    },
    {
      "cell_type": "code",
      "source": [
        "#defining function to download images in parallel\n",
        "def download_parallel(args):\n",
        "    cpus=cpu_count()\n",
        "    results=ThreadPool(cpus).imap_unordered(download_image,args)"
      ],
      "metadata": {
        "id": "iJaY9Z83qez6"
      },
      "execution_count": null,
      "outputs": []
    },
    {
      "cell_type": "code",
      "source": [
        "t0=time.time()\n",
        "inputs=zip(url_list,index_list)\n",
        "download_parallel(inputs)\n",
        "print(\"Total download time:\",time.time()-t0)"
      ],
      "metadata": {
        "id": "uhErxHHPqhOi"
      },
      "execution_count": null,
      "outputs": []
    },
    {
      "cell_type": "code",
      "source": [
        "import os\n",
        "\n",
        "def count_files_in_folder(folder_path):\n",
        "    try:\n",
        "        file_count = len([f for f in os.listdir(folder_path) if os.path.isfile(os.path.join(folder_path, f))])\n",
        "        print(f\"Number of files in '{folder_path}': {file_count}\")\n",
        "    except Exception as e:\n",
        "        print(f\"Error counting files in '{folder_path}': {e}\")\n",
        "\n",
        "count_files_in_folder(\"/content/kaggle/working/downloaded_images\")"
      ],
      "metadata": {
        "id": "o7bO1P9CqjG6"
      },
      "execution_count": null,
      "outputs": []
    },
    {
      "cell_type": "code",
      "source": [
        "import torch\n",
        "from PIL import Image\n",
        "import numpy as np\n",
        "\n",
        "#loading the model\n",
        "model = torch.jit.load(\"/content/sscd_disc_mixup.torchscript.pt\")\n",
        "model=model.to('cuda')\n"
      ],
      "metadata": {
        "id": "YSzZqEBwqkwc"
      },
      "execution_count": null,
      "outputs": []
    },
    {
      "cell_type": "code",
      "source": [
        "from torchvision import transforms\n",
        "\n",
        "normalize = transforms.Normalize(\n",
        "    mean=[0.485, 0.456, 0.406], std=[0.229, 0.224, 0.225],\n",
        ")\n",
        "small_288 = transforms.Compose([\n",
        "    transforms.Resize(288),\n",
        "    transforms.ToTensor(),\n",
        "    normalize,\n",
        "])\n",
        "skew_320 = transforms.Compose([\n",
        "    transforms.Resize([320, 320]),\n",
        "    transforms.ToTensor(),\n",
        "    normalize,\n",
        "])"
      ],
      "metadata": {
        "id": "TyanVCHBq8Jl"
      },
      "execution_count": null,
      "outputs": []
    },
    {
      "cell_type": "code",
      "source": [
        "import os\n",
        "def get_sorted_files_by_index(folder_path):\n",
        "    try:\n",
        "        files = [f for f in os.listdir(folder_path) if os.path.isfile(os.path.join(folder_path, f))]\n",
        "        sorted_files = sorted(files, key=lambda x: int(x.split('_')[1].split('.')[0]))\n",
        "        sorted_index=[int(index.split('_')[1].split('.')[0]) for index in sorted_files]\n",
        "        return sorted_files,sorted_index\n",
        "    except Exception as e:\n",
        "        print(f\"Error getting sorted files in '{folder_path}': {e}\")\n",
        "        return None"
      ],
      "metadata": {
        "id": "gnIXotwkq9nt"
      },
      "execution_count": null,
      "outputs": []
    },
    {
      "cell_type": "code",
      "source": [
        "#getting sorted file and index from images downloaded\n",
        "sorted_files,sorted_index = get_sorted_files_by_index(\"/content/kaggle/working/downloaded_images\")"
      ],
      "metadata": {
        "id": "ZZdI8sNeq-_9"
      },
      "execution_count": null,
      "outputs": []
    },
    {
      "cell_type": "code",
      "source": [
        "#Finding the embedding\n",
        "embeddings=[]\n",
        "for index in sorted_index:\n",
        "    img = Image.open(f\"/content/kaggle/working/downloaded_images/image_{index}.jpg\").convert('RGB')\n",
        "    batch = small_288(img).unsqueeze(0).to('cuda')\n",
        "    embedding = model(batch)[0, :]\n",
        "    embedding_arr=embedding.detach().cpu().numpy()\n",
        "    embeddings.append(embedding_arr)\n",
        "    del embedding\n",
        "    if index % 1000 == 0:\n",
        "      print(index)"
      ],
      "metadata": {
        "id": "Gl5HHHi5rAYM"
      },
      "execution_count": null,
      "outputs": []
    },
    {
      "cell_type": "code",
      "source": [
        "#saving the embeddings\n",
        "np.savez('embeddings.npz', *embeddings)\n",
        "#saving the index\n",
        "index_arr=np.array(sorted_index)\n",
        "np.savez('index_arr.npz', data=index_arr)"
      ],
      "metadata": {
        "id": "J5YfS6CBrB7d"
      },
      "execution_count": null,
      "outputs": []
    },
    {
      "cell_type": "code",
      "source": [
        "import numpy as np\n",
        "\n",
        "embeddings_loaded = np.load('/content/embeddings.npz')\n",
        "index_loaded = np.load('/content/index_arr.npz')"
      ],
      "metadata": {
        "id": "L76Rz9m3rIh2"
      },
      "execution_count": null,
      "outputs": []
    },
    {
      "cell_type": "code",
      "source": [
        "embeddings_loaded = [embeddings_loaded[key] for key in embeddings_loaded]\n",
        "index_loaded=index_loaded['data']\n",
        "index_loaded=index_loaded.tolist()"
      ],
      "metadata": {
        "id": "SEdMP0tNrKP2"
      },
      "execution_count": null,
      "outputs": []
    },
    {
      "cell_type": "code",
      "source": [
        "embeddings_loaded_small=embeddings_loaded[0:10000]\n",
        "index_loaded_small=index_loaded[0:10000]"
      ],
      "metadata": {
        "id": "PkdDmGHCrP_t"
      },
      "execution_count": null,
      "outputs": []
    },
    {
      "cell_type": "code",
      "source": [
        "#Finding the cosine distance between images matmul has been implemented to make the computation faster\n",
        "import time\n",
        "from numpy import dot\n",
        "from numpy.linalg import norm\n",
        "import numpy as np\n",
        "\n",
        "def compute_cosine_sim(array_list):\n",
        "    matrix = np.vstack(array_list)\n",
        "    norm_arr=np.vstack([norm(arr) for arr in array_list])\n",
        "    dot_norm=np.dot(norm_arr,norm_arr.T)\n",
        "    dot_mat=np.dot(matrix,matrix.T)\n",
        "    dist=dot_mat/dot_norm\n",
        "\n",
        "    return dist"
      ],
      "metadata": {
        "id": "5Tal8S7CrRqe"
      },
      "execution_count": null,
      "outputs": []
    },
    {
      "cell_type": "code",
      "source": [
        "cosine_distances=compute_cosine_sim(embeddings_loaded_small)"
      ],
      "metadata": {
        "id": "wHixC0Y0rWwg"
      },
      "execution_count": null,
      "outputs": []
    },
    {
      "cell_type": "code",
      "source": [
        "np.savez('cosine_distances.npz', data=cosine_distances)"
      ],
      "metadata": {
        "id": "PekyvvA_rYL4"
      },
      "execution_count": null,
      "outputs": []
    },
    {
      "cell_type": "code",
      "source": [
        "import numpy as np\n",
        "cosine_distance_loaded = np.load('/content/cosine_distances.npz')\n",
        "cosine_distance_loaded=cosine_distance_loaded['data']\n",
        "cosine_distances=cosine_distance_loaded"
      ],
      "metadata": {
        "id": "zTPudtdPro-m"
      },
      "execution_count": null,
      "outputs": []
    },
    {
      "cell_type": "code",
      "source": [
        "index_dict = {index: element for index, element in enumerate(index_loaded_small)}"
      ],
      "metadata": {
        "id": "rNLY1wHjrqat"
      },
      "execution_count": null,
      "outputs": []
    },
    {
      "cell_type": "code",
      "source": [
        "#Plotting the graph\n",
        "import networkx as nx\n",
        "import matplotlib.pyplot as plt\n",
        "\n",
        "\n",
        "# Find the non-zero indices in the adjacency matrix\n",
        "non_zero_indices = np.nonzero(adjacency_matrix)\n",
        "\n",
        "#getting the cosine distance from the indices\n",
        "edge_lengths=cosine_distances[[non_zero_indices[0]],[non_zero_indices[1]]]\n",
        "edge_lengths=np.squeeze(edge_lengths)\n",
        "\n",
        "#changing the index to old indices\n",
        "non_zero_indices_0 = np.vectorize(index_dict.get)(non_zero_indices[0])\n",
        "non_zero_indices_1 = np.vectorize(index_dict.get)(non_zero_indices[1])\n",
        "non_zero_indices=(non_zero_indices_0,non_zero_indices_1)\n",
        "\n",
        "mapped_edges = list(zip(non_zero_indices[0], non_zero_indices[1], edge_lengths))\n",
        "G = nx.Graph()\n",
        "G.add_weighted_edges_from(mapped_edges)\n",
        "\n",
        "pos = nx.spring_layout(G,k=1)\n",
        "\n",
        "plt.figure(figsize=(20, 12))\n",
        "\n",
        "nx.draw(G, pos, with_labels=True, font_weight='bold', node_size=300, node_color='blue', font_color='black', font_size=5, edge_color='gray', linewidths=0.5, alpha=0.7)\n",
        "\n",
        "edge_labels = {(mapped_edge[0], mapped_edge[1]): f\"{mapped_edge[2]:.2f}\" for mapped_edge in mapped_edges}\n",
        "nx.draw_networkx_edge_labels(G, pos, edge_labels=edge_labels, font_color='red',font_size=6)\n",
        "\n",
        "plt.savefig('graph.png')\n",
        "plt.show()"
      ],
      "metadata": {
        "id": "OAM330d0r_Ap"
      },
      "execution_count": null,
      "outputs": []
    },
    {
      "cell_type": "code",
      "source": [
        "clusters = list(nx.connected_components(G))\n",
        "# Create a new graph with nodes colored based on clusters\n",
        "node_to_cluster = {node: i for i, cluster in enumerate(clusters) for node in cluster}\n",
        "node_colors = [node_to_cluster[node] for node in G.nodes]\n",
        "\n",
        "\n",
        "pos = nx.spring_layout(G,k=1)\n",
        "plt.figure(figsize=(20, 12))\n",
        "\n",
        "nx.draw(G, pos, node_color=node_colors, cmap=plt.cm.get_cmap('viridis', len(clusters)), with_labels=True, font_weight='bold', node_size=300, font_color='black', font_size=8, edge_color='gray', alpha=0.7)\n",
        "plt.title(\"Graph with Clusters Colored Differently\")\n",
        "plt.savefig('graph_with_cluster.png')\n",
        "plt.show()"
      ],
      "metadata": {
        "id": "IZCNXScMsAkB"
      },
      "execution_count": null,
      "outputs": []
    },
    {
      "cell_type": "code",
      "source": [
        "#getting all cluster prompts\n",
        "for i in range(len(clusters)):\n",
        "\n",
        "  list_of_indices=clusters[i]\n",
        "  list_cluster = df.loc[list_of_indices, 'text'].tolist()\n",
        "\n",
        "  with open(\"lists.txt\", \"a\") as file:\n",
        "    for item in list_cluster:\n",
        "        file.write(item + \"\\n\")\n",
        "    file.write(f\"\\n\\n##########################################Cluster{i}################################################\\n\\n\")"
      ],
      "metadata": {
        "id": "Qp3aIFj2sC5o"
      },
      "execution_count": null,
      "outputs": []
    }
  ]
}